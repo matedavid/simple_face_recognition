{
 "cells": [
  {
   "cell_type": "code",
   "execution_count": 7,
   "metadata": {},
   "outputs": [],
   "source": [
    "import json\n",
    "import matplotlib.pyplot as plt\n",
    "import numpy as np\n",
    "from skimage import io\n",
    "import pickle as pkl\n",
    "import cv2\n",
    "import os"
   ]
  },
  {
   "cell_type": "code",
   "execution_count": 2,
   "metadata": {},
   "outputs": [
    {
     "data": {
      "text/plain": [
       "{'content': 'http://com.dataturks.a96-i23.open.s3.amazonaws.com/2c9fafb064277d86016431e33e4e003d/8186c3d1-e9d4-4550-8ec1-a062a7628787___0-26.jpg.jpeg',\n",
       " 'annotation': [{'label': ['Face'],\n",
       "   'notes': '',\n",
       "   'points': [{'x': 0.08615384615384615, 'y': 0.3063063063063063},\n",
       "    {'x': 0.1723076923076923, 'y': 0.45345345345345345}],\n",
       "   'imageWidth': 650,\n",
       "   'imageHeight': 333},\n",
       "  {'label': ['Face'],\n",
       "   'notes': '',\n",
       "   'points': [{'x': 0.583076923076923, 'y': 0.2912912912912913},\n",
       "    {'x': 0.6584615384615384, 'y': 0.46846846846846846}],\n",
       "   'imageWidth': 650,\n",
       "   'imageHeight': 333}],\n",
       " 'extras': None}"
      ]
     },
     "execution_count": 2,
     "metadata": {},
     "output_type": "execute_result"
    }
   ],
   "source": [
    "with open(\"face_detection.json\", \"r\") as f:\n",
    "    file_lines = f.read().split(\"\\n\")\n",
    "d = json.loads(file_lines[0])\n",
    "d"
   ]
  },
  {
   "cell_type": "code",
   "execution_count": 3,
   "metadata": {},
   "outputs": [],
   "source": [
    "def download_img_from_url(url):\n",
    "    # TODO - Make sure that image is in correct format (3 channels, for example)\n",
    "    img = io.imread(url)\n",
    "    return img"
   ]
  },
  {
   "cell_type": "code",
   "execution_count": 8,
   "metadata": {},
   "outputs": [],
   "source": [
    "def preprocess_data(file_lines):\n",
    "    # Downloads images into images/ folder, and processes data into more managable form \n",
    "    \n",
    "    data = []\n",
    "    for idx, file_l in enumerate(file_lines):\n",
    "        \n",
    "        print(f\"Image: {idx+1}/{len(file_lines)}\")\n",
    "        \n",
    "        line = json.loads(file_l)\n",
    "        url = line[\"content\"]\n",
    "        \n",
    "        img = download_img_from_url(url)\n",
    "        img_name = f\"img_{idx}.png\"\n",
    "        img_path = os.path.join(\"images\", img_name)\n",
    "        cv2.imwrite(img_path, img)\n",
    "        \n",
    "        width, height = line[\"annotation\"][0][\"imageWidth\"], line[\"annotation\"][0][\"imageHeight\"]\n",
    "        # x1, y1, x2, y2\n",
    "        points = []\n",
    "        for annot in line[\"annotation\"]:\n",
    "            point = annot[\"points\"]\n",
    "            x1, y1 = point[0][\"x\"], point[0][\"y\"]\n",
    "            x2, y2 = point[1][\"x\"], point[1][\"y\"]\n",
    "            points.append([x1, y1, x2, y2])\n",
    "        \n",
    "        data.append({\"img_path\": img_path, \"size\": (width, height), \"points\": points})\n",
    "    return data"
   ]
  },
  {
   "cell_type": "code",
   "execution_count": 9,
   "metadata": {},
   "outputs": [],
   "source": [
    "p_data = preprocess_data(file_lines)"
   ]
  },
  {
   "cell_type": "code",
   "execution_count": 11,
   "metadata": {},
   "outputs": [
    {
     "data": {
      "text/plain": [
       "{'img_path': 'images/img_0.png',\n",
       " 'size': (650, 333),\n",
       " 'points': [[0.08615384615384615,\n",
       "   0.3063063063063063,\n",
       "   0.1723076923076923,\n",
       "   0.45345345345345345],\n",
       "  [0.583076923076923,\n",
       "   0.2912912912912913,\n",
       "   0.6584615384615384,\n",
       "   0.46846846846846846]]}"
      ]
     },
     "execution_count": 11,
     "metadata": {},
     "output_type": "execute_result"
    }
   ],
   "source": [
    "p_data[0]"
   ]
  },
  {
   "cell_type": "code",
   "execution_count": 12,
   "metadata": {},
   "outputs": [],
   "source": [
    "with open(\"preprocessed_data.pkl\", \"wb\") as f:\n",
    "    pkl.dump(p_data, f)"
   ]
  },
  {
   "cell_type": "code",
   "execution_count": null,
   "metadata": {},
   "outputs": [],
   "source": []
  }
 ],
 "metadata": {
  "kernelspec": {
   "display_name": "Python 3",
   "language": "python",
   "name": "python3"
  },
  "language_info": {
   "codemirror_mode": {
    "name": "ipython",
    "version": 3
   },
   "file_extension": ".py",
   "mimetype": "text/x-python",
   "name": "python",
   "nbconvert_exporter": "python",
   "pygments_lexer": "ipython3",
   "version": "3.7.7"
  }
 },
 "nbformat": 4,
 "nbformat_minor": 4
}
